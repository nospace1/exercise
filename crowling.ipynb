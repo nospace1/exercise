{
 "cells": [
  {
   "cell_type": "markdown",
   "metadata": {},
   "source": [
    "## https://beomi.github.io/2017/02/27/HowToMakeWebCrawler-With-Selenium/"
   ]
  },
  {
   "cell_type": "code",
   "execution_count": 1,
   "metadata": {},
   "outputs": [],
   "source": [
    "import os"
   ]
  },
  {
   "cell_type": "code",
   "execution_count": 2,
   "metadata": {},
   "outputs": [],
   "source": [
    "os.getcwd()\n",
    "person = ['Michael Jeffrey Jordan', 'Kana Momonogi', 'Steve Paul Jobs', 'You Jae seok', 'Jui']\n",
    "os.chdir('C:\\\\Users\\\\15U560\\\\Desktop\\\\작업실\\\\jupyter\\\\person')\n",
    "wd = 'C:\\\\Users\\\\15U560\\\\Desktop\\\\작업실\\\\jupyter\\\\person'"
   ]
  },
  {
   "cell_type": "code",
   "execution_count": 3,
   "metadata": {},
   "outputs": [
    {
     "data": {
      "text/plain": [
       "'C:\\\\Users\\\\15U560\\\\Desktop\\\\작업실\\\\jupyter\\\\person'"
      ]
     },
     "execution_count": 3,
     "metadata": {},
     "output_type": "execute_result"
    }
   ],
   "source": [
    "def changedir(name):\n",
    "    if name == 'Michael Jeffrey Jordan' : os.chdir(wd+'\\\\'+person[0])\n",
    "    elif name == 'Kana Momonogi' : os.chdir(wd+'\\\\'+person[1])\n",
    "    elif name == 'Steve Paul Jobs' : os.chdir(wd+'\\\\'+person[2])\n",
    "    elif name == 'You Jae seok' : os.chdir(wd+'\\\\'+person[3])\n",
    "    elif name == 'Jui' : os.chdir(wd+'\\\\'+person[4])\n",
    "                        \n",
    "os.getcwd()"
   ]
  },
  {
   "cell_type": "code",
   "execution_count": 4,
   "metadata": {},
   "outputs": [],
   "source": [
    "import urllib.request\n",
    "import codecs\n",
    "import csv\n",
    "import requests\n",
    "from bs4 import BeautifulSoup\n",
    "from selenium import webdriver\n",
    "import time"
   ]
  },
  {
   "cell_type": "code",
   "execution_count": 25,
   "metadata": {},
   "outputs": [],
   "source": [
    "driver = webdriver.Chrome('C:/Users/15U560/Desktop/chromedriver_win32/chromedriver.exe')\n",
    "driver.implicitly_wait(4)"
   ]
  },
  {
   "cell_type": "markdown",
   "metadata": {},
   "source": [
    "##### Michael Jeffrey Jordan\n",
    "##### https://www.google.co.kr/search?q=Michael+Jeffrey+Jordan&source=lnms&tbm=isch&sa=X&ved=0ahUKEwjzoZehmNDcAhUBdt4KHTq5D1IQ_AUICigB&biw=767&bih=664"
   ]
  },
  {
   "cell_type": "markdown",
   "metadata": {},
   "source": [
    "##### Kana Momonogi\n",
    "##### https://www.google.co.kr/search?biw=767&bih=664&tbm=isch&sa=1&ei=V-1jW5iADNvp-Qa0zZCwCw&q=Kana+Momonogi&oq=Kana+Momonogi&gs_l=img.3...1403806.1403806.0.1404717.1.1.0.0.0.0.340.340.3-1.1.0....0...1c.1.64.img..0.0.0....0.4jNmoiMzAj4"
   ]
  },
  {
   "cell_type": "markdown",
   "metadata": {},
   "source": [
    "##### Steve Paul Jobs\n",
    "##### https://www.google.co.kr/search?q=Steve+Paul+Jobs&source=lnms&tbm=isch&sa=X&ved=0ahUKEwjcqNXgndDcAhUe8LwKHfjrBz0Q_AUICigB&biw=767&bih=664&dpr=1.25"
   ]
  },
  {
   "cell_type": "markdown",
   "metadata": {},
   "source": [
    "##### 유재석\n",
    "##### https://www.google.co.kr/search?biw=767&bih=664&tbm=isch&sa=1&ei=GvNjW-G_IYLg8wW81q0w&q=You+Jae+seok&oq=You+Jae+seok&gs_l=img.3...19013.19013.0.19585.1.1.0.0.0.0.270.270.2-1.1.0....0...1c.1.64.img..0.0.0....0.SpX5cQDjosI"
   ]
  },
  {
   "cell_type": "markdown",
   "metadata": {},
   "source": [
    "##### 주이\n",
    "##### https://www.google.co.kr/search?biw=767&bih=664&tbm=isch&sa=1&ei=X_NjW_jwGYmY8wXeiYy4Ag&q=%EC%A3%BC%EC%9D%B4&oq=%EC%A3%BC%EC%9D%B4&gs_l=img.3..0l10.3083.4475.0.4761.9.8.0.0.0.0.265.868.0j3j2.5.0....0...1c.1j4.64.img..6.3.607....0.6LKiK0K8RcQ"
   ]
  },
  {
   "cell_type": "code",
   "execution_count": 26,
   "metadata": {},
   "outputs": [],
   "source": [
    "changedir('Jui')"
   ]
  },
  {
   "cell_type": "code",
   "execution_count": 27,
   "metadata": {},
   "outputs": [],
   "source": [
    "driver.get('https://www.google.co.kr/search?biw=767&bih=664&tbm=isch&sa=1&ei=X_NjW_jwGYmY8wXeiYy4Ag&q=%EC%A3%BC%EC%9D%B4&oq=%EC%A3%BC%EC%9D%B4&gs_l=img.3..0l10.3083.4475.0.4761.9.8.0.0.0.0.265.868.0j3j2.5.0....0...1c.1j4.64.img..6.3.607....0.6LKiK0K8RcQ')\n",
    "time.sleep(20)\n",
    "html = driver.page_source\n",
    "soup = BeautifulSoup(html, 'lxml')\n",
    "url2 = soup.find_all(\"img\")"
   ]
  },
  {
   "cell_type": "markdown",
   "metadata": {},
   "source": [
    "### soup = BeautifulSoup(html, 'lxml')\n",
    "### soup.select('a.item_slider.product_link > img')"
   ]
  },
  {
   "cell_type": "code",
   "execution_count": 28,
   "metadata": {},
   "outputs": [],
   "source": [
    "url = []\n",
    "\n",
    "for m in url2:\n",
    "    url.append(m.get('src'))"
   ]
  },
  {
   "cell_type": "markdown",
   "metadata": {},
   "source": [
    "### 그림 저장 "
   ]
  },
  {
   "cell_type": "code",
   "execution_count": 29,
   "metadata": {
    "scrolled": false
   },
   "outputs": [
    {
     "name": "stdout",
     "output_type": "stream",
     "text": [
      "2\n",
      "3\n",
      "4\n",
      "5\n",
      "6\n",
      "7\n",
      "8\n",
      "9\n",
      "10\n",
      "11\n",
      "12\n",
      "13\n",
      "14\n",
      "15\n",
      "16\n",
      "17\n",
      "18\n",
      "19\n",
      "20\n",
      "21\n",
      "22\n",
      "23\n",
      "24\n",
      "25\n",
      "26\n",
      "27\n",
      "28\n",
      "29\n",
      "30\n",
      "31\n",
      "32\n",
      "33\n",
      "34\n",
      "35\n",
      "36\n",
      "37\n",
      "38\n",
      "39\n",
      "40\n",
      "41\n",
      "42\n",
      "43\n",
      "44\n",
      "45\n",
      "46\n",
      "47\n",
      "48\n",
      "49\n",
      "50\n",
      "51\n",
      "52\n",
      "53\n",
      "54\n",
      "55\n",
      "56\n",
      "57\n",
      "58\n",
      "59\n",
      "60\n",
      "61\n",
      "62\n",
      "63\n",
      "64\n",
      "65\n",
      "66\n",
      "67\n",
      "68\n",
      "69\n",
      "70\n",
      "71\n",
      "72\n",
      "73\n",
      "74\n",
      "75\n",
      "76\n",
      "77\n",
      "78\n",
      "79\n",
      "80\n",
      "81\n",
      "82\n",
      "83\n",
      "84\n",
      "85\n",
      "86\n",
      "87\n",
      "88\n",
      "89\n",
      "90\n",
      "91\n",
      "92\n",
      "93\n",
      "94\n",
      "95\n",
      "96\n",
      "97\n",
      "98\n",
      "99\n",
      "100\n"
     ]
    }
   ],
   "source": [
    "for i in range(2,len(url)):   \n",
    "    name = str(i) + '.jpg'\n",
    "    urllib.request.urlretrieve(url[i],name)\n",
    "    print(i)\n",
    "    if i == 100: break"
   ]
  },
  {
   "cell_type": "code",
   "execution_count": null,
   "metadata": {},
   "outputs": [],
   "source": []
  }
 ],
 "metadata": {
  "kernelspec": {
   "display_name": "Python 3",
   "language": "python",
   "name": "python3"
  },
  "language_info": {
   "codemirror_mode": {
    "name": "ipython",
    "version": 3
   },
   "file_extension": ".py",
   "mimetype": "text/x-python",
   "name": "python",
   "nbconvert_exporter": "python",
   "pygments_lexer": "ipython3",
   "version": "3.6.4"
  },
  "varInspector": {
   "cols": {
    "lenName": 16,
    "lenType": 16,
    "lenVar": 40
   },
   "kernels_config": {
    "python": {
     "delete_cmd_postfix": "",
     "delete_cmd_prefix": "del ",
     "library": "var_list.py",
     "varRefreshCmd": "print(var_dic_list())"
    },
    "r": {
     "delete_cmd_postfix": ") ",
     "delete_cmd_prefix": "rm(",
     "library": "var_list.r",
     "varRefreshCmd": "cat(var_dic_list()) "
    }
   },
   "position": {
    "height": "270px",
    "left": "1026.36px",
    "right": "20px",
    "top": "120px",
    "width": "351px"
   },
   "types_to_exclude": [
    "module",
    "function",
    "builtin_function_or_method",
    "instance",
    "_Feature"
   ],
   "window_display": false
  }
 },
 "nbformat": 4,
 "nbformat_minor": 2
}
