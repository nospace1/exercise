{
 "cells": [
  {
   "cell_type": "markdown",
   "metadata": {},
   "source": [
    "## https://beomi.github.io/2017/02/27/HowToMakeWebCrawler-With-Selenium/"
   ]
  },
  {
   "cell_type": "code",
   "execution_count": 26,
   "metadata": {},
   "outputs": [],
   "source": [
    "import os"
   ]
  },
  {
   "cell_type": "code",
   "execution_count": 27,
   "metadata": {},
   "outputs": [],
   "source": [
    "os.getcwd()\n",
    "person = ['Michael Jeffrey Jordan', 'Kana Momonogi', 'Steve Paul Jobs', 'You Jae seok', 'Jui']\n",
    "os.chdir('C:\\\\Users\\\\15U560\\\\Desktop\\\\작업실\\\\jupyter\\\\person')\n",
    "wd = 'C:\\\\Users\\\\15U560\\\\Desktop\\\\작업실\\\\jupyter\\\\person'"
   ]
  },
  {
   "cell_type": "code",
   "execution_count": 28,
   "metadata": {},
   "outputs": [
    {
     "data": {
      "text/plain": [
       "'C:\\\\Users\\\\15U560\\\\Desktop\\\\작업실\\\\jupyter\\\\person'"
      ]
     },
     "execution_count": 28,
     "metadata": {},
     "output_type": "execute_result"
    }
   ],
   "source": [
    "def changedir(name):\n",
    "    if name == 'Michael Jeffrey Jordan' : os.chdir(wd+'\\\\'+person[0])\n",
    "    elif name == 'Kana Momonogi' : os.chdir(wd+'\\\\'+person[1])\n",
    "    elif name == 'Steve Paul Jobs' : os.chdir(wd+'\\\\'+person[2])\n",
    "    elif name == 'You Jae seok' : os.chdir(wd+'\\\\'+person[3])\n",
    "    elif name == 'Jui' : os.chdir(wd+'\\\\'+person[4])\n",
    "                        \n",
    "os.getcwd()"
   ]
  },
  {
   "cell_type": "code",
   "execution_count": 29,
   "metadata": {},
   "outputs": [],
   "source": [
    "import urllib.request\n",
    "import codecs\n",
    "import csv\n",
    "import requests\n",
    "from bs4 import BeautifulSoup\n",
    "from selenium import webdriver\n",
    "import time"
   ]
  },
  {
   "cell_type": "code",
   "execution_count": 33,
   "metadata": {},
   "outputs": [],
   "source": [
    "driver = webdriver.Chrome('C:/Users/15U560/Desktop/chromedriver_win32/chromedriver.exe')\n",
    "driver.implicitly_wait(4)"
   ]
  },
  {
   "cell_type": "markdown",
   "metadata": {},
   "source": [
    "##### Michael Jeffrey Jordan\n",
    "##### https://www.google.co.kr/search?q=Michael+Jeffrey+Jordan&source=lnms&tbm=isch&sa=X&ved=0ahUKEwjzoZehmNDcAhUBdt4KHTq5D1IQ_AUICigB&biw=767&bih=664"
   ]
  },
  {
   "cell_type": "markdown",
   "metadata": {},
   "source": [
    "##### Kana Momonogi\n",
    "##### https://www.google.co.kr/search?biw=767&bih=664&tbm=isch&sa=1&ei=V-1jW5iADNvp-Qa0zZCwCw&q=Kana+Momonogi&oq=Kana+Momonogi&gs_l=img.3...1403806.1403806.0.1404717.1.1.0.0.0.0.340.340.3-1.1.0....0...1c.1.64.img..0.0.0....0.4jNmoiMzAj4"
   ]
  },
  {
   "cell_type": "markdown",
   "metadata": {},
   "source": [
    "##### Steve Paul Jobs\n",
    "##### https://www.google.co.kr/search?q=Steve+Paul+Jobs&source=lnms&tbm=isch&sa=X&ved=0ahUKEwjcqNXgndDcAhUe8LwKHfjrBz0Q_AUICigB&biw=767&bih=664&dpr=1.25"
   ]
  },
  {
   "cell_type": "markdown",
   "metadata": {},
   "source": [
    "##### 유재석\n",
    "##### https://www.google.co.kr/search?biw=767&bih=664&tbm=isch&sa=1&ei=GvNjW-G_IYLg8wW81q0w&q=You+Jae+seok&oq=You+Jae+seok&gs_l=img.3...19013.19013.0.19585.1.1.0.0.0.0.270.270.2-1.1.0....0...1c.1.64.img..0.0.0....0.SpX5cQDjosI"
   ]
  },
  {
   "cell_type": "markdown",
   "metadata": {},
   "source": [
    "##### 주이\n",
    "##### https://www.google.co.kr/search?biw=767&bih=664&tbm=isch&sa=1&ei=X_NjW_jwGYmY8wXeiYy4Ag&q=%EC%A3%BC%EC%9D%B4&oq=%EC%A3%BC%EC%9D%B4&gs_l=img.3..0l10.3083.4475.0.4761.9.8.0.0.0.0.265.868.0j3j2.5.0....0...1c.1j4.64.img..6.3.607....0.6LKiK0K8RcQ"
   ]
  },
  {
   "cell_type": "code",
   "execution_count": 34,
   "metadata": {},
   "outputs": [],
   "source": [
    "changedir('Michael Jeffrey Jordan')"
   ]
  },
  {
   "cell_type": "code",
   "execution_count": 35,
   "metadata": {},
   "outputs": [],
   "source": [
    "driver.get('https://www.google.co.kr/search?q=Michael+Jeffrey+Jordan&source=lnms&tbm=isch&sa=X&ved=0ahUKEwjzoZehmNDcAhUBdt4KHTq5D1IQ_AUICigB&biw=767&bih=664')\n",
    "time.sleep(20)\n",
    "html = driver.page_source\n",
    "soup = BeautifulSoup(html, 'html.parser')\n",
    "notices = soup.select('div.p_inr > div.p_info > a > span')"
   ]
  },
  {
   "cell_type": "markdown",
   "metadata": {},
   "source": [
    "### soup = BeautifulSoup(html, 'lxml')\n",
    "### soup.select('a.item_slider.product_link > img')"
   ]
  },
  {
   "cell_type": "code",
   "execution_count": 36,
   "metadata": {},
   "outputs": [],
   "source": [
    "url = []\n",
    "\n",
    "for m in notices:\n",
    "    url.append(m.get('src'))"
   ]
  },
  {
   "cell_type": "markdown",
   "metadata": {},
   "source": [
    "### 그림 저장 "
   ]
  },
  {
   "cell_type": "code",
   "execution_count": 37,
   "metadata": {},
   "outputs": [],
   "source": [
    "for i in range(2, len(url)):\n",
    "    name = str(i) + '.jpg'\n",
    "    urllib.request.urlretrieve(url[i], name)\n",
    "    print(i)\n",
    "    if i == 100: break"
   ]
  },
  {
   "cell_type": "code",
   "execution_count": null,
   "metadata": {},
   "outputs": [],
   "source": []
  }
 ],
 "metadata": {
  "kernelspec": {
   "display_name": "Python 3",
   "language": "python",
   "name": "python3"
  },
  "language_info": {
   "codemirror_mode": {
    "name": "ipython",
    "version": 3
   },
   "file_extension": ".py",
   "mimetype": "text/x-python",
   "name": "python",
   "nbconvert_exporter": "python",
   "pygments_lexer": "ipython3",
   "version": "3.6.4"
  },
  "varInspector": {
   "cols": {
    "lenName": 16,
    "lenType": 16,
    "lenVar": 40
   },
   "kernels_config": {
    "python": {
     "delete_cmd_postfix": "",
     "delete_cmd_prefix": "del ",
     "library": "var_list.py",
     "varRefreshCmd": "print(var_dic_list())"
    },
    "r": {
     "delete_cmd_postfix": ") ",
     "delete_cmd_prefix": "rm(",
     "library": "var_list.r",
     "varRefreshCmd": "cat(var_dic_list()) "
    }
   },
   "position": {
    "height": "270px",
    "left": "1026.36px",
    "right": "20px",
    "top": "120px",
    "width": "351px"
   },
   "types_to_exclude": [
    "module",
    "function",
    "builtin_function_or_method",
    "instance",
    "_Feature"
   ],
   "window_display": false
  }
 },
 "nbformat": 4,
 "nbformat_minor": 2
}
