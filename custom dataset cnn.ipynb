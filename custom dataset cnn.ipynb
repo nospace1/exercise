{
 "cells": [
  {
   "cell_type": "code",
   "execution_count": 1,
   "metadata": {},
   "outputs": [
    {
     "name": "stderr",
     "output_type": "stream",
     "text": [
      "C:\\Users\\15U560\\Anaconda3\\Scripts\\lib\\site-packages\\h5py\\__init__.py:36: FutureWarning: Conversion of the second argument of issubdtype from `float` to `np.floating` is deprecated. In future, it will be treated as `np.float64 == np.dtype(float).type`.\n",
      "  from ._conv import register_converters as _register_converters\n"
     ]
    }
   ],
   "source": [
    "import numpy as np\n",
    "import os\n",
    "import tensorflow as tf\n",
    "import matplotlib.pyplot as plt\n",
    "cwd = os.getcwd()\n"
   ]
  },
  {
   "cell_type": "markdown",
   "metadata": {},
   "source": [
    "## LOAD DATA"
   ]
  },
  {
   "cell_type": "code",
   "execution_count": 2,
   "metadata": {},
   "outputs": [
    {
     "name": "stdout",
     "output_type": "stream",
     "text": [
      "['trainimg', 'trainlabel', 'testimg', 'testlabel', 'imgsize', 'use_gray', 'categories']\n"
     ]
    }
   ],
   "source": [
    "cwd = os.getcwd()\n",
    "loadpath = cwd + \"/data/custom_data.npz\"\n",
    "l = np.load(loadpath)\n",
    "print (l.files)"
   ]
  },
  {
   "cell_type": "code",
   "execution_count": 3,
   "metadata": {},
   "outputs": [
    {
     "data": {
      "text/plain": [
       "'C:\\\\Users\\\\15U560\\\\Desktop\\\\작업실\\\\jupyter'"
      ]
     },
     "execution_count": 3,
     "metadata": {},
     "output_type": "execute_result"
    }
   ],
   "source": [
    "os.getcwd()"
   ]
  },
  {
   "cell_type": "markdown",
   "metadata": {},
   "source": [
    "## PARSE LOADED DATA"
   ]
  },
  {
   "cell_type": "code",
   "execution_count": 4,
   "metadata": {},
   "outputs": [
    {
     "name": "stdout",
     "output_type": "stream",
     "text": [
      "234 TRAIN IMAGES\n",
      "156 TEST IMAGES\n",
      "12288 DIMENSIONAL INPUT\n",
      "5 CLASSES\n",
      "[64 64]\n",
      "['Jui' 'Momonogi' 'Jordan' 'Jobs' 'Jae seok']\n"
     ]
    }
   ],
   "source": [
    "trainimg = l['trainimg']\n",
    "trainlabel = l['trainlabel']\n",
    "testimg = l['testimg']\n",
    "testlabel = l['testlabel']\n",
    "imgsize = l['imgsize']\n",
    "categories = l['categories']\n",
    "use_gray = l['use_gray']\n",
    "if use_gray:\n",
    "    nimgch = 1\n",
    "else:\n",
    "    nimgch = 3\n",
    "ntrain = trainimg.shape[0]\n",
    "nclass = trainlabel.shape[1]\n",
    "dim = trainimg.shape[1]\n",
    "ntest = testimg.shape[0]\n",
    "print (\"%d TRAIN IMAGES\" % (ntrain))\n",
    "print (\"%d TEST IMAGES\" % (ntest))\n",
    "print (\"%d DIMENSIONAL INPUT\" % (dim))\n",
    "print (\"%d CLASSES\" % (nclass))\n",
    "print (imgsize)\n",
    "print (categories)"
   ]
  },
  {
   "cell_type": "markdown",
   "metadata": {},
   "source": [
    "## NETWORK TOPOLOCIES"
   ]
  },
  {
   "cell_type": "code",
   "execution_count": 5,
   "metadata": {},
   "outputs": [],
   "source": [
    "n_input = dim\n",
    "n_channel = 64\n",
    "n_classes = nclass"
   ]
  },
  {
   "cell_type": "code",
   "execution_count": 6,
   "metadata": {},
   "outputs": [
    {
     "name": "stdout",
     "output_type": "stream",
     "text": [
      "NETWORK READY\n"
     ]
    }
   ],
   "source": [
    "# INPUTS AND OUTPUTS\n",
    "x = tf.placeholder(\"float\", [None, n_input])\n",
    "y = tf.placeholder(\"float\", [None, n_classes])\n",
    "\n",
    "# NETWORK PARAMETERS\n",
    "stddev = 0.1\n",
    "weights = {\n",
    "    'c1' : tf.Variable(tf.random_normal([7, 7, nimgch, n_channel], stddev=stddev)),\n",
    "    'd1' : tf.Variable(tf.random_normal([n_channel*imgsize[0]*imgsize[1]//4, n_classes], stddev=stddev))\n",
    "}\n",
    "biases = {\n",
    "    'c1' : tf.Variable(tf.random_normal([n_channel], stddev=stddev)),\n",
    "    'd1' : tf.Variable(tf.random_normal([n_classes], stddev=stddev))\n",
    "}\n",
    "print (\"NETWORK READY\")"
   ]
  },
  {
   "cell_type": "code",
   "execution_count": 7,
   "metadata": {},
   "outputs": [],
   "source": [
    "# MODEL\n",
    "def CNN(_x, _w, _b):\n",
    "    # RESHAPE\n",
    "    _x_r = tf.reshape(_x, shape=[-1, imgsize[0], imgsize[1], nimgch])\n",
    "    # CONVOLUTION\n",
    "    _conv1 = tf.nn.conv2d(_x_r, _w['c1'], strides=[1, 1, 1, 1], padding='SAME')\n",
    "    # ADD BIAS\n",
    "    _conv2 = tf.nn.bias_add(_conv1, _b['c1'])\n",
    "    # RELU\n",
    "    _conv3 = tf.nn.relu(_conv2)\n",
    "    # MAX-POOL\n",
    "    _pool = tf.nn.max_pool(_conv3, ksize=[1, 2, 2, 1], strides=[1, 2, 2, 1], padding='SAME')\n",
    "\n",
    "    # VECTORIZE\n",
    "    _dense = tf.reshape(_pool, [-1, _w['d1'].get_shape().as_list()[0]])\n",
    "    # DENSE\n",
    "    _logit = tf.add(tf.matmul(_dense, _w['d1']), _b['d1'])\n",
    "    _out = {\n",
    "            'x_r' : _x_r, 'conv1' : _conv1, 'conv2' : _conv2, 'conv3' : _conv3, \n",
    "                    'pool' : _pool, 'dense' : _dense, 'logit' : _logit\n",
    "    }\n",
    "    return _out"
   ]
  },
  {
   "cell_type": "code",
   "execution_count": 8,
   "metadata": {},
   "outputs": [
    {
     "name": "stdout",
     "output_type": "stream",
     "text": [
      "WARNING:tensorflow:From <ipython-input-8-31dd3b3dbecc>:5: softmax_cross_entropy_with_logits (from tensorflow.python.ops.nn_ops) is deprecated and will be removed in a future version.\n",
      "Instructions for updating:\n",
      "\n",
      "Future major versions of TensorFlow will allow gradients to flow\n",
      "into the labels input on backprop by default.\n",
      "\n",
      "See tf.nn.softmax_cross_entropy_with_logits_v2.\n",
      "\n",
      "FUNCTIONS READY\n"
     ]
    }
   ],
   "source": [
    "# PREDICTION\n",
    "cnnout = CNN(x, weights, biases)\n",
    "\n",
    "# LOSS AND OPTIMIZER\n",
    "cost = tf.reduce_mean(tf.nn.softmax_cross_entropy_with_logits(labels=y, logits=cnnout['logit']))\n",
    "optm = tf.train.AdamOptimizer(learning_rate=3e-2).minimize(cost)\n",
    "corr = tf.equal(tf.argmax(cnnout['logit'], 1), tf.argmax(y, 1))\n",
    "accr = tf.reduce_mean(tf.cast(corr, \"float\"))\n",
    "\n",
    "# INITIALIZER\n",
    "init = tf.global_variables_initializer()\n",
    "print (\"FUNCTIONS READY\")"
   ]
  },
  {
   "cell_type": "markdown",
   "metadata": {},
   "source": [
    "## RUN"
   ]
  },
  {
   "cell_type": "code",
   "execution_count": 9,
   "metadata": {},
   "outputs": [],
   "source": [
    "# PARAMETERS\n",
    "training_epochs = 50\n",
    "batch_size = 100\n",
    "disp_each = 10\n",
    "plot_each = 10\n",
    "# LAUNCH THE GRAPH\n",
    "sess = tf.Session()\n",
    "sess.run(init)\n",
    "  "
   ]
  },
  {
   "cell_type": "code",
   "execution_count": 12,
   "metadata": {},
   "outputs": [
    {
     "ename": "SyntaxError",
     "evalue": "keyword can't be an expression (<ipython-input-12-5332b37b61e4>, line 29)",
     "output_type": "error",
     "traceback": [
      "\u001b[1;36m  File \u001b[1;32m\"<ipython-input-12-5332b37b61e4>\"\u001b[1;36m, line \u001b[1;32m29\u001b[0m\n\u001b[1;33m    missidx = np.where(sess.run(corr.feed_dict=feeds) == 0)[0]\u001b[0m\n\u001b[1;37m                               ^\u001b[0m\n\u001b[1;31mSyntaxError\u001b[0m\u001b[1;31m:\u001b[0m keyword can't be an expression\n"
     ]
    }
   ],
   "source": [
    "# OPTIMIZE\n",
    "for epoch in range(training_epochs):\n",
    "    total_batch = int(ntrain/batch_size)\n",
    "    randpermlist = np.random.permutation(ntrain)\n",
    "    sum_cost = 0.\n",
    "    for i in range(total_batch):\n",
    "        randidx = randpermlist[i*batch_size:min((i+1)*batch_size, ntrain-1)]\n",
    "        batch_xs = trainimg[randidx, :]\n",
    "        batch_ys = trainlabel[randidx, :]\n",
    "        feeds = {x: batch_xs, y: batch_ys}\n",
    "        sess.run(optm, feed_dict=feeds)\n",
    "        sum_cost += sess.run(cost, feed_dict=feeds)\n",
    "    avg_cost = sum_cost / total_batch\n",
    "    \n",
    "    if (epoch+1) % disp_each == 0 or epoch == training_epochs-1:\n",
    "        print (\"Epoch: %03d/%03d cost : %.9f\" % (epoch+1, training_epochs, avg_cost))\n",
    "        feeds = {x: batch_xs, y:batch_ys}\n",
    "        train_acc = sess.run(accr, feed_dict=feeds)\n",
    "        print (\" TRAIN ACCURACY : %.3f\" % (train_acc))\n",
    "        feeds = {x: testimg, y:testlabel}\n",
    "        test_acc = sess.run(accr, feed_dict=feeds)\n",
    "        print (\"TEST ACCURACY : %.3f\" % (test_acc))\n",
    "    "
   ]
  },
  {
   "cell_type": "code",
   "execution_count": 11,
   "metadata": {},
   "outputs": [
    {
     "ename": "IndentationError",
     "evalue": "unexpected indent (<ipython-input-11-d04589184e24>, line 2)",
     "output_type": "error",
     "traceback": [
      "\u001b[1;36m  File \u001b[1;32m\"<ipython-input-11-d04589184e24>\"\u001b[1;36m, line \u001b[1;32m2\u001b[0m\n\u001b[1;33m    if (epoch+1) % plot_each == 0 or epoch == training_epochs-1:\u001b[0m\n\u001b[1;37m    ^\u001b[0m\n\u001b[1;31mIndentationError\u001b[0m\u001b[1;31m:\u001b[0m unexpected indent\n"
     ]
    }
   ],
   "source": [
    " #PLOT\n",
    "    if (epoch+1) % plot_each == 0 or epoch == training_epochs-1:\n",
    "        ntemp = int(ntest/batch_size) + 1\n",
    "        missidxlist = []\n",
    "        for ii in range(ntemp):\n",
    "            iii = np.arange(ii*batch_size, min(ntest, (ii+1)*batch_size))\n",
    "            feeds = {x: testimg[iii, :], y: testlabel[iii, :]}\n",
    "            missidx = np.where(sess.run(corr.feed_dict=feeds) == 0)[0]\n",
    "            missidxlist = np.concatenate99missidxlist, iii[missidx]\n",
    "        nmiss = len(missidxlist)\n",
    "        print (\"%d MISSED\" % (nmiss))\n",
    "        # PLOT MISSCLASSIFIED (UPTO THREE)\n",
    "        missidxlist = np.random.permutation(missidxlist.astype(int))\n",
    "        selmissidx = missidxlist[:min(3, nmiss)].astype(int)\n",
    "        feeds_miss = sess.run(pred, feed_dict=feeds_miss)\n",
    "        answ_miss = np.argmax(pred_miss, 1)\n",
    "        answ_corr = np.argmax(testlabel[selmissidx, :] ,1)\n",
    "        for idx in range(len(selmissidx)):\n",
    "            cidx = selmissidx[idx]\n",
    "            anw = answ_mill[idx]\n",
    "            ref = answ_corr[idx]\n",
    "            if use_gray != 0:\n",
    "                currimg = np.reshape(testimg[cidx, :], (imgsize[0], imgsize[1]))\n",
    "                plt.imshow(currimg, cmap='gray')\n",
    "            else :\n",
    "                currimg = np.reshape(testimg[cidx, :], (imgsize[0], imgsize[1], -1))\n",
    "                plt.imshow(currimg)\n",
    "            anw_category = categories[anw]\n",
    "            ref_category = categories[ref]\n",
    "            title_string = (\"IDX: %d CURR ANWR: [%s] TRUE LABEL: [%s]\"\n",
    "                    % (cidx, anw_category, ref_category))\n",
    "            plt.title(title_string)\n",
    "            plt.show()"
   ]
  },
  {
   "cell_type": "code",
   "execution_count": null,
   "metadata": {},
   "outputs": [],
   "source": []
  }
 ],
 "metadata": {
  "kernelspec": {
   "display_name": "Python 3",
   "language": "python",
   "name": "python3"
  },
  "language_info": {
   "codemirror_mode": {
    "name": "ipython",
    "version": 3
   },
   "file_extension": ".py",
   "mimetype": "text/x-python",
   "name": "python",
   "nbconvert_exporter": "python",
   "pygments_lexer": "ipython3",
   "version": "3.6.4"
  },
  "varInspector": {
   "cols": {
    "lenName": 16,
    "lenType": 16,
    "lenVar": 40
   },
   "kernels_config": {
    "python": {
     "delete_cmd_postfix": "",
     "delete_cmd_prefix": "del ",
     "library": "var_list.py",
     "varRefreshCmd": "print(var_dic_list())"
    },
    "r": {
     "delete_cmd_postfix": ") ",
     "delete_cmd_prefix": "rm(",
     "library": "var_list.r",
     "varRefreshCmd": "cat(var_dic_list()) "
    }
   },
   "types_to_exclude": [
    "module",
    "function",
    "builtin_function_or_method",
    "instance",
    "_Feature"
   ],
   "window_display": false
  }
 },
 "nbformat": 4,
 "nbformat_minor": 2
}
